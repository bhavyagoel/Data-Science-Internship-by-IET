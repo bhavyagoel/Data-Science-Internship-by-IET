{
  "nbformat": 4,
  "nbformat_minor": 0,
  "metadata": {
    "colab": {
      "name": "review4Regressor.ipynb",
      "provenance": [],
      "toc_visible": true
    },
    "kernelspec": {
      "name": "python3",
      "display_name": "Python 3"
    }
  },
  "cells": [
    {
      "cell_type": "code",
      "metadata": {
        "id": "PEAjKJLrt9_f",
        "colab_type": "code",
        "colab": {}
      },
      "source": [
        "import pandas as pd\n",
        "import numpy as np \n",
        "import matplotlib.pyplot as plt\n",
        "import seaborn as sns \n",
        "\n",
        "from sklearn.linear_model import LinearRegression, Ridge, ElasticNet, Lasso, BayesianRidge, RANSACRegressor\n",
        "from sklearn.tree import DecisionTreeRegressor\n",
        "from sklearn.neural_network import MLPRegressor\n",
        "from sklearn.neighbors import KNeighborsRegressor\n",
        "import statsmodels.api as sm\n",
        "from sklearn.svm import SVR\n",
        "from sklearn.gaussian_process import GaussianProcessRegressor\n",
        "from sklearn.model_selection import RandomizedSearchCV\n",
        "from sklearn.feature_selection import SelectFromModel\n",
        "from sklearn.model_selection import train_test_split\n",
        "import random\n",
        "from sklearn import metrics\n",
        "random.seed(0)"
      ],
      "execution_count": 223,
      "outputs": []
    },
    {
      "cell_type": "code",
      "metadata": {
        "id": "PqOcB5jzuhQC",
        "colab_type": "code",
        "colab": {}
      },
      "source": [
        "data = pd.read_csv(\"X_train.csv\")"
      ],
      "execution_count": 224,
      "outputs": []
    },
    {
      "cell_type": "code",
      "metadata": {
        "id": "5cCti9YVuksK",
        "colab_type": "code",
        "colab": {
          "base_uri": "https://localhost:8080/",
          "height": 226
        },
        "outputId": "f47ee008-64de-4dfb-a0c8-aa86ef3d6f05"
      },
      "source": [
        "data.head()"
      ],
      "execution_count": 225,
      "outputs": [
        {
          "output_type": "execute_result",
          "data": {
            "text/html": [
              "<div>\n",
              "<style scoped>\n",
              "    .dataframe tbody tr th:only-of-type {\n",
              "        vertical-align: middle;\n",
              "    }\n",
              "\n",
              "    .dataframe tbody tr th {\n",
              "        vertical-align: top;\n",
              "    }\n",
              "\n",
              "    .dataframe thead th {\n",
              "        text-align: right;\n",
              "    }\n",
              "</style>\n",
              "<table border=\"1\" class=\"dataframe\">\n",
              "  <thead>\n",
              "    <tr style=\"text-align: right;\">\n",
              "      <th></th>\n",
              "      <th>ssc_p</th>\n",
              "      <th>hsc_p</th>\n",
              "      <th>degree_p</th>\n",
              "      <th>etest_p</th>\n",
              "      <th>mba_p</th>\n",
              "      <th>salary</th>\n",
              "      <th>gender_M</th>\n",
              "      <th>ssc_b_Others</th>\n",
              "      <th>hsc_b_Others</th>\n",
              "      <th>hsc_s_Commerce</th>\n",
              "      <th>hsc_s_Science</th>\n",
              "      <th>degree_t_Others</th>\n",
              "      <th>degree_t_Sci&amp;Tech</th>\n",
              "      <th>workex_Yes</th>\n",
              "      <th>specialisation_Mkt&amp;HR</th>\n",
              "      <th>status_Placed</th>\n",
              "    </tr>\n",
              "  </thead>\n",
              "  <tbody>\n",
              "    <tr>\n",
              "      <th>0</th>\n",
              "      <td>0.000000</td>\n",
              "      <td>2.148760</td>\n",
              "      <td>-0.727273</td>\n",
              "      <td>-0.680851</td>\n",
              "      <td>-0.385078</td>\n",
              "      <td>0.106195</td>\n",
              "      <td>1</td>\n",
              "      <td>1</td>\n",
              "      <td>1</td>\n",
              "      <td>1</td>\n",
              "      <td>0</td>\n",
              "      <td>0</td>\n",
              "      <td>1</td>\n",
              "      <td>0</td>\n",
              "      <td>1</td>\n",
              "      <td>1</td>\n",
              "    </tr>\n",
              "    <tr>\n",
              "      <th>1</th>\n",
              "      <td>0.816556</td>\n",
              "      <td>1.101653</td>\n",
              "      <td>1.043636</td>\n",
              "      <td>0.659574</td>\n",
              "      <td>0.515042</td>\n",
              "      <td>-0.141593</td>\n",
              "      <td>1</td>\n",
              "      <td>0</td>\n",
              "      <td>1</td>\n",
              "      <td>0</td>\n",
              "      <td>1</td>\n",
              "      <td>0</td>\n",
              "      <td>1</td>\n",
              "      <td>1</td>\n",
              "      <td>0</td>\n",
              "      <td>1</td>\n",
              "    </tr>\n",
              "    <tr>\n",
              "      <th>2</th>\n",
              "      <td>-0.132450</td>\n",
              "      <td>0.247934</td>\n",
              "      <td>-0.181818</td>\n",
              "      <td>0.170213</td>\n",
              "      <td>-0.505415</td>\n",
              "      <td>0.035398</td>\n",
              "      <td>1</td>\n",
              "      <td>0</td>\n",
              "      <td>0</td>\n",
              "      <td>0</td>\n",
              "      <td>0</td>\n",
              "      <td>0</td>\n",
              "      <td>0</td>\n",
              "      <td>0</td>\n",
              "      <td>0</td>\n",
              "      <td>1</td>\n",
              "    </tr>\n",
              "    <tr>\n",
              "      <th>3</th>\n",
              "      <td>-0.728477</td>\n",
              "      <td>-1.074380</td>\n",
              "      <td>-1.272727</td>\n",
              "      <td>-0.212766</td>\n",
              "      <td>-0.309266</td>\n",
              "      <td>-0.849558</td>\n",
              "      <td>1</td>\n",
              "      <td>0</td>\n",
              "      <td>0</td>\n",
              "      <td>0</td>\n",
              "      <td>1</td>\n",
              "      <td>0</td>\n",
              "      <td>1</td>\n",
              "      <td>0</td>\n",
              "      <td>1</td>\n",
              "      <td>0</td>\n",
              "    </tr>\n",
              "    <tr>\n",
              "      <th>4</th>\n",
              "      <td>1.245033</td>\n",
              "      <td>0.710744</td>\n",
              "      <td>0.663636</td>\n",
              "      <td>1.097872</td>\n",
              "      <td>-0.782190</td>\n",
              "      <td>0.654867</td>\n",
              "      <td>1</td>\n",
              "      <td>0</td>\n",
              "      <td>0</td>\n",
              "      <td>1</td>\n",
              "      <td>0</td>\n",
              "      <td>0</td>\n",
              "      <td>0</td>\n",
              "      <td>0</td>\n",
              "      <td>0</td>\n",
              "      <td>1</td>\n",
              "    </tr>\n",
              "  </tbody>\n",
              "</table>\n",
              "</div>"
            ],
            "text/plain": [
              "      ssc_p     hsc_p  ...  specialisation_Mkt&HR  status_Placed\n",
              "0  0.000000  2.148760  ...                      1              1\n",
              "1  0.816556  1.101653  ...                      0              1\n",
              "2 -0.132450  0.247934  ...                      0              1\n",
              "3 -0.728477 -1.074380  ...                      1              0\n",
              "4  1.245033  0.710744  ...                      0              1\n",
              "\n",
              "[5 rows x 16 columns]"
            ]
          },
          "metadata": {
            "tags": []
          },
          "execution_count": 225
        }
      ]
    },
    {
      "cell_type": "code",
      "metadata": {
        "id": "Qlsw7W8Aw0gb",
        "colab_type": "code",
        "colab": {}
      },
      "source": [
        "x = data.iloc[:,[0,1,2,3,4,6,7,8,9,10,11,12,13,14]]\n",
        "y = data.iloc[:,[5]]"
      ],
      "execution_count": 229,
      "outputs": []
    },
    {
      "cell_type": "code",
      "metadata": {
        "id": "8idrQ9-ezynD",
        "colab_type": "code",
        "colab": {}
      },
      "source": [
        "x_train, x_test, y_train, y_test = train_test_split(x, y, test_size = 0.2, random_state = 0)"
      ],
      "execution_count": 230,
      "outputs": []
    },
    {
      "cell_type": "markdown",
      "metadata": {
        "id": "H00_bCw-C-Zi",
        "colab_type": "text"
      },
      "source": [
        "## Linear Regression"
      ]
    },
    {
      "cell_type": "code",
      "metadata": {
        "id": "XGdQw1EXxuu6",
        "colab_type": "code",
        "colab": {
          "base_uri": "https://localhost:8080/",
          "height": 300
        },
        "outputId": "a9dc25d0-a9de-4dc1-db8d-e373873105cc"
      },
      "source": [
        "model = LinearRegression()\n",
        "features = SelectFromModel(model)\n",
        "features.fit(x_train, y_train)\n",
        "selected_feat = x_train.columns[(features.get_support())]\n",
        "xFeatTrain = x_train[selected_feat]\n",
        "xFeatTest = x_test[selected_feat]\n",
        "model.fit(xFeatTrain, y_train)\n",
        "pred = model.predict(xFeatTest)\n",
        "sns.distplot(y_test.values - pred, bins=20)\n",
        "print(model.coef_)\n",
        "#higher the value better the fit\n",
        "print(\"R-squared value : \\t\", 1 - np.sqrt(metrics.mean_squared_error(y_test, pred)))"
      ],
      "execution_count": 231,
      "outputs": [
        {
          "output_type": "stream",
          "text": [
            "[[ 0.34094717  0.10823595  0.13192284  0.21081174 -0.13506183]]\n",
            "R-squared value : \t 0.6000259212083021\n"
          ],
          "name": "stdout"
        },
        {
          "output_type": "display_data",
          "data": {
            "image/png": "[encoded data removed]",
            "text/plain": [
              "<Figure size 432x288 with 1 Axes>"
            ]
          },
          "metadata": {
            "tags": [],
            "needs_background": "light"
          }
        }
      ]
    },
    {
      "cell_type": "markdown",
      "metadata": {
        "id": "VHJ-60RUDCEn",
        "colab_type": "text"
      },
      "source": [
        "## OLS"
      ]
    },
    {
      "cell_type": "code",
      "metadata": {
        "id": "5_8bWnDW5Cj2",
        "colab_type": "code",
        "colab": {}
      },
      "source": [
        "xOLS = sm.add_constant(x)\n",
        "#reject features with p-value>0.05 and check if rsquared goes up or not"
      ],
      "execution_count": 252,
      "outputs": []
    },
    {
      "cell_type": "markdown",
      "metadata": {
        "id": "22uwg3Fvdeoy",
        "colab_type": "text"
      },
      "source": [
        "Created a function BackwardEliminationRAquared to reject features with p-values>0.5 but at the same time check if it affects R-Squared value.\n",
        "To be precise R-Squared value should increase on removing features."
      ]
    },
    {
      "cell_type": "code",
      "metadata": {
        "id": "CvYwDWUn51Mk",
        "colab_type": "code",
        "colab": {}
      },
      "source": [
        "def BackwardEliminationRSquared(x,y,SL):\n",
        "    maxvar = len(x[0])\n",
        "    temp = np.zeros(shape=x.shape).astype(int)\n",
        "    for i in range(maxvar):\n",
        "        regressor_ols = sm.OLS(endog=y,exog=x).fit()\n",
        "        adjR_before = regressor_ols.rsquared_adj.astype(float)\n",
        "        maxP = max(regressor_ols.pvalues).astype(float)\n",
        "        if (maxP>SL):\n",
        "            for j in range(maxvar-i):\n",
        "                if(regressor_ols.pvalues[j]==maxP):\n",
        "                    temp[:,j] = x[:,j]\n",
        "                    x = np.delete(arr=x,obj=j,axis=1)\n",
        "                    tmp_regressor = sm.OLS(endog=y,exog=x).fit()\n",
        "                    adjR_after = tmp_regressor.rsquared_adj.astype(float)\n",
        "                    if (adjR_before>=adjR_after):\n",
        "                        \n",
        "                        x_rollback = np.hstack(((x,temp[:,[j]]))) #makes temp a 2-D array\n",
        "                        print(regressor_ols.summary())\n",
        "                        return x_rollback\n",
        "                    else:\n",
        "                        continue"
      ],
      "execution_count": 253,
      "outputs": []
    },
    {
      "cell_type": "code",
      "metadata": {
        "id": "EmsZdLuW7OiQ",
        "colab_type": "code",
        "colab": {
          "base_uri": "https://localhost:8080/",
          "height": 555
        },
        "outputId": "ba8fafb6-b329-47ad-b60a-855331f907a5"
      },
      "source": [
        "x_modeled = BackwardEliminationRSquared(xOLS.values,y.values,0.05)"
      ],
      "execution_count": 254,
      "outputs": [
        {
          "output_type": "stream",
          "text": [
            "                            OLS Regression Results                            \n",
            "==============================================================================\n",
            "Dep. Variable:                      y   R-squared:                       0.432\n",
            "Model:                            OLS   Adj. R-squared:                  0.413\n",
            "Method:                 Least Squares   F-statistic:                     22.48\n",
            "Date:                Tue, 23 Jun 2020   Prob (F-statistic):           1.66e-22\n",
            "Time:                        14:00:23   Log-Likelihood:                -114.43\n",
            "No. Observations:                 215   AIC:                             244.9\n",
            "Df Residuals:                     207   BIC:                             271.8\n",
            "Df Model:                           7                                         \n",
            "Covariance Type:            nonrobust                                         \n",
            "==============================================================================\n",
            "                 coef    std err          t      P>|t|      [0.025      0.975]\n",
            "------------------------------------------------------------------------------\n",
            "const         -0.2896      0.064     -4.539      0.000      -0.415      -0.164\n",
            "x1             0.2778      0.052      5.350      0.000       0.175       0.380\n",
            "x2             0.1215      0.039      3.112      0.002       0.045       0.198\n",
            "x3             0.1323      0.054      2.438      0.016       0.025       0.239\n",
            "x4            -0.1074      0.049     -2.204      0.029      -0.203      -0.011\n",
            "x5             0.1528      0.065      2.365      0.019       0.025       0.280\n",
            "x6             0.2071      0.063      3.294      0.001       0.083       0.331\n",
            "x7            -0.1051      0.061     -1.718      0.087      -0.226       0.016\n",
            "==============================================================================\n",
            "Omnibus:                       87.499   Durbin-Watson:                   1.991\n",
            "Prob(Omnibus):                  0.000   Jarque-Bera (JB):              457.841\n",
            "Skew:                           1.501   Prob(JB):                    3.81e-100\n",
            "Kurtosis:                       9.488   Cond. No.                         4.31\n",
            "==============================================================================\n",
            "\n",
            "Warnings:\n",
            "[1] Standard Errors assume that the covariance matrix of the errors is correctly specified.\n"
          ],
          "name": "stdout"
        }
      ]
    },
    {
      "cell_type": "code",
      "metadata": {
        "id": "xIYhrrSN8AK7",
        "colab_type": "code",
        "colab": {
          "base_uri": "https://localhost:8080/",
          "height": 1000
        },
        "outputId": "eeb6b444-eb93-409f-928a-37cebb16dedc"
      },
      "source": [
        "model = sm.OLS(y, x_modeled).fit()\n",
        "print(model.summary())\n",
        "print(model.params)\n",
        "print(\"\\nR-squared value : \\t\", model.rsquared)\n",
        "pred = model.predict(x_modeled)\n",
        "sns.distplot(y.values - pred, bins=20)"
      ],
      "execution_count": 256,
      "outputs": [
        {
          "output_type": "stream",
          "text": [
            "                            OLS Regression Results                            \n",
            "==============================================================================\n",
            "Dep. Variable:                 salary   R-squared:                       0.432\n",
            "Model:                            OLS   Adj. R-squared:                  0.413\n",
            "Method:                 Least Squares   F-statistic:                     22.48\n",
            "Date:                Tue, 23 Jun 2020   Prob (F-statistic):           1.66e-22\n",
            "Time:                        14:00:33   Log-Likelihood:                -114.43\n",
            "No. Observations:                 215   AIC:                             244.9\n",
            "Df Residuals:                     207   BIC:                             271.8\n",
            "Df Model:                           7                                         \n",
            "Covariance Type:            nonrobust                                         \n",
            "==============================================================================\n",
            "                 coef    std err          t      P>|t|      [0.025      0.975]\n",
            "------------------------------------------------------------------------------\n",
            "const         -0.2896      0.064     -4.539      0.000      -0.415      -0.164\n",
            "x1             0.2778      0.052      5.350      0.000       0.175       0.380\n",
            "x2             0.1215      0.039      3.112      0.002       0.045       0.198\n",
            "x3             0.1323      0.054      2.438      0.016       0.025       0.239\n",
            "x4            -0.1074      0.049     -2.204      0.029      -0.203      -0.011\n",
            "x5             0.1528      0.065      2.365      0.019       0.025       0.280\n",
            "x6             0.2071      0.063      3.294      0.001       0.083       0.331\n",
            "x7            -0.1051      0.061     -1.718      0.087      -0.226       0.016\n",
            "==============================================================================\n",
            "Omnibus:                       87.499   Durbin-Watson:                   1.991\n",
            "Prob(Omnibus):                  0.000   Jarque-Bera (JB):              457.841\n",
            "Skew:                           1.501   Prob(JB):                    3.81e-100\n",
            "Kurtosis:                       9.488   Cond. No.                         4.31\n",
            "==============================================================================\n",
            "\n",
            "Warnings:\n",
            "[1] Standard Errors assume that the covariance matrix of the errors is correctly specified.\n",
            "const   -0.289636\n",
            "x1       0.277800\n",
            "x2       0.121492\n",
            "x3       0.132266\n",
            "x4      -0.107389\n",
            "x5       0.152765\n",
            "x6       0.207147\n",
            "x7      -0.105091\n",
            "dtype: float64\n",
            "\n",
            "R-squared value : \t 0.4318726973970223\n"
          ],
          "name": "stdout"
        },
        {
          "output_type": "execute_result",
          "data": {
            "text/plain": [
              "<matplotlib.axes._subplots.AxesSubplot at 0x7fd508416f28>"
            ]
          },
          "metadata": {
            "tags": []
          },
          "execution_count": 256
        },
        {
          "output_type": "display_data",
          "data": {
            "image/png": "[encoded data removed]",
            "text/plain": [
              "<Figure size 432x288 with 1 Axes>"
            ]
          },
          "metadata": {
            "tags": [],
            "needs_background": "light"
          }
        }
      ]
    },
    {
      "cell_type": "markdown",
      "metadata": {
        "id": "_P69D4ZfDEW6",
        "colab_type": "text"
      },
      "source": [
        "## Ridge"
      ]
    },
    {
      "cell_type": "code",
      "metadata": {
        "id": "_bGLPWXHB4nP",
        "colab_type": "code",
        "colab": {
          "base_uri": "https://localhost:8080/",
          "height": 369
        },
        "outputId": "47c51ed6-114e-4f67-9bf8-f21e8ac7fd17"
      },
      "source": [
        "ridge = Ridge()\n",
        "param = {'alpha':[1e-15, 1e-10, 1e-8, 1e-3, 1e-2, 1, 5, 10, 20, 30, 35, 40, 45, 50, 55, 100], \n",
        "         'tol':[1e-15, 1e-10, 1e-8, 1e-3, 1e-2, 1, 5, 10, 20, 30, 35, 40, 45, 50, 55, 100], \n",
        "         'solver':['auto', 'svd', 'cholesky', 'lsqr', 'sparse_cg', 'sag', 'saga']}\n",
        "\n",
        "model = RandomizedSearchCV(ridge, param, scoring=\"neg_mean_squared_error\", cv=5)\n",
        "\n",
        "model.fit(x_train, y_train)\n",
        "print(model.best_params_)\n",
        "print(model.best_score_)\n",
        "model = model.best_estimator_\n",
        "pred = model.predict(x_test)\n",
        "sns.distplot(y_test.values - pred, bins=20)\n",
        "print(model.coef_)\n",
        "#higher the value better the fit\n",
        "print(\"R-squared value : \\t\", 1 - np.sqrt(metrics.mean_squared_error(y_test, pred)))"
      ],
      "execution_count": 236,
      "outputs": [
        {
          "output_type": "stream",
          "text": [
            "{'tol': 1e-10, 'solver': 'auto', 'alpha': 5}\n",
            "-0.20294977150223156\n",
            "[[ 0.29235866  0.12618481  0.10743407 -0.03931645 -0.08020511  0.11483276\n",
            "   0.05885229 -0.06600853 -0.02794021  0.01219119 -0.04518599 -0.03179283\n",
            "   0.21210266 -0.11930039]]\n",
            "R-squared value : \t 0.617298458188794\n"
          ],
          "name": "stdout"
        },
        {
          "output_type": "display_data",
          "data": {
            "image/png": "[encoded data removed]",
            "text/plain": [
              "<Figure size 432x288 with 1 Axes>"
            ]
          },
          "metadata": {
            "tags": [],
            "needs_background": "light"
          }
        }
      ]
    },
    {
      "cell_type": "code",
      "metadata": {
        "id": "tQRVmq9SDkKV",
        "colab_type": "code",
        "colab": {
          "base_uri": "https://localhost:8080/",
          "height": 300
        },
        "outputId": "db5cd680-f8cb-4f6b-8e2d-9c33a641da3b"
      },
      "source": [
        "features = SelectFromModel(model)\n",
        "features.fit(x_train, y_train)\n",
        "selected_feat = x_train.columns[(features.get_support())]\n",
        "xFeatTrain = x_train[selected_feat]\n",
        "xFeatTest = x_test[selected_feat]\n",
        "model.fit(xFeatTrain, y_train)\n",
        "pred = model.predict(xFeatTest)\n",
        "sns.distplot(y_test.values - pred, bins=20)\n",
        "print(model.coef_)\n",
        "#higher the value better the fit\n",
        "print(\"R-squared value : \\t\", 1 - np.sqrt(metrics.mean_squared_error(y_test, pred)))"
      ],
      "execution_count": 237,
      "outputs": [
        {
          "output_type": "stream",
          "text": [
            "[[ 0.28341756  0.10068733  0.09319459  0.13432794  0.18875579 -0.11550822]]\n",
            "R-squared value : \t 0.6128922731523194\n"
          ],
          "name": "stdout"
        },
        {
          "output_type": "display_data",
          "data": {
            "image/png": "[encoded data removed]",
            "text/plain": [
              "<Figure size 432x288 with 1 Axes>"
            ]
          },
          "metadata": {
            "tags": [],
            "needs_background": "light"
          }
        }
      ]
    },
    {
      "cell_type": "markdown",
      "metadata": {
        "id": "d4BgcSm3Htg0",
        "colab_type": "text"
      },
      "source": [
        "## Elastic Net"
      ]
    },
    {
      "cell_type": "code",
      "metadata": {
        "id": "MX1QDJ7DG1P5",
        "colab_type": "code",
        "colab": {
          "base_uri": "https://localhost:8080/",
          "height": 563
        },
        "outputId": "b84ee8f7-d853-4c1f-e9a5-dc90cec62745"
      },
      "source": [
        "elastic = ElasticNet()\n",
        "param = {'alpha':[1e-15, 1e-10, 1e-8, 1e-3, 1e-2, 1, 5, 10, 20, 30, 35, 40, 45, 50, 55, 100], \n",
        "         'l1_ratio':[1e-15, 1e-10, 1e-8, 1e-3, 1e-2, 1, 5, 10, 20, 30, 35, 40, 45, 50, 55, 100], \n",
        "         'tol':[1e-15, 1e-10, 1e-8, 1e-3, 1e-2, 1, 5, 10, 20, 30, 35, 40, 45, 50, 55, 100], \n",
        "         'selection':['cyclic', 'random'], \n",
        "         'max_iter':[1e3, 1e4, 1e5, 1e6, 1e7]}\n",
        "model = RandomizedSearchCV(elastic, param, scoring=\"neg_mean_squared_error\", cv=5)\n",
        "\n",
        "model.fit(x_train, y_train)\n",
        "print(model.best_params_)\n",
        "print(model.best_score_)\n",
        "model = model.best_estimator_\n",
        "pred = model.predict(x_test)\n",
        "sns.distplot(y_test.values - pred, bins=20)\n",
        "print(model.coef_)\n",
        "#higher the value better the fit\n",
        "print(\"R-squared value : \\t\", 1 - np.sqrt(metrics.mean_squared_error(y_test, pred)))"
      ],
      "execution_count": 238,
      "outputs": [
        {
          "output_type": "stream",
          "text": [
            "/usr/local/lib/python3.6/dist-packages/sklearn/linear_model/_coordinate_descent.py:476: ConvergenceWarning: Objective did not converge. You might want to increase the number of iterations. Duality gap: 13.370511886237644, tolerance: 4.72531984568009e-14\n",
            "  positive)\n",
            "/usr/local/lib/python3.6/dist-packages/sklearn/linear_model/_coordinate_descent.py:476: ConvergenceWarning: Objective did not converge. You might want to increase the number of iterations. Duality gap: 13.255416832789145, tolerance: 4.564461782156032e-14\n",
            "  positive)\n",
            "/usr/local/lib/python3.6/dist-packages/sklearn/linear_model/_coordinate_descent.py:476: ConvergenceWarning: Objective did not converge. You might want to increase the number of iterations. Duality gap: 12.054725470847766, tolerance: 4.2874650540654966e-14\n",
            "  positive)\n",
            "/usr/local/lib/python3.6/dist-packages/sklearn/linear_model/_coordinate_descent.py:476: ConvergenceWarning: Objective did not converge. You might want to increase the number of iterations. Duality gap: 9.160447701554684, tolerance: 3.7560524957976805e-14\n",
            "  positive)\n",
            "/usr/local/lib/python3.6/dist-packages/sklearn/linear_model/_coordinate_descent.py:476: ConvergenceWarning: Objective did not converge. You might want to increase the number of iterations. Duality gap: 11.520628201801442, tolerance: 4.181655572088653e-14\n",
            "  positive)\n"
          ],
          "name": "stderr"
        },
        {
          "output_type": "stream",
          "text": [
            "{'tol': 0.001, 'selection': 'random', 'max_iter': 10000.0, 'l1_ratio': 0.01, 'alpha': 0.01}\n",
            "-0.20578735231826673\n",
            "[ 0.30637568  0.12691066  0.10632738 -0.04661303 -0.08831306  0.12110095\n",
            "  0.07138043 -0.07997141 -0.04031903  0.01020638 -0.06940835 -0.04523742\n",
            "  0.22984963 -0.1235442 ]\n",
            "R-squared value : \t 0.6137554597847994\n"
          ],
          "name": "stdout"
        },
        {
          "output_type": "display_data",
          "data": {
            "image/png": "[encoded data removed]",
            "text/plain": [
              "<Figure size 432x288 with 1 Axes>"
            ]
          },
          "metadata": {
            "tags": [],
            "needs_background": "light"
          }
        }
      ]
    },
    {
      "cell_type": "code",
      "metadata": {
        "id": "AqxFW5m2GNCo",
        "colab_type": "code",
        "colab": {
          "base_uri": "https://localhost:8080/",
          "height": 300
        },
        "outputId": "fd5ea218-3e49-41a7-f864-3866b51b24d5"
      },
      "source": [
        "features = SelectFromModel(model)\n",
        "features.fit(x_train, y_train)\n",
        "selected_feat = x_train.columns[(features.get_support())]\n",
        "xFeatTrain = x_train[selected_feat]\n",
        "xFeatTest = x_test[selected_feat]\n",
        "model.fit(xFeatTrain, y_train)\n",
        "pred = model.predict(xFeatTest)\n",
        "sns.distplot(y_test.values - pred, bins=20)\n",
        "print(model.coef_)\n",
        "#higher the value better the fit\n",
        "print(\"R-squared value : \\t\", 1 - np.sqrt(metrics.mean_squared_error(y_test, pred)))"
      ],
      "execution_count": 239,
      "outputs": [
        {
          "output_type": "stream",
          "text": [
            "[ 0.29614759  0.09756546  0.09101607  0.1435847   0.20047887 -0.11979874]\n",
            "R-squared value : \t 0.6109732355251323\n"
          ],
          "name": "stdout"
        },
        {
          "output_type": "display_data",
          "data": {
            "image/png": "[encoded data removed]",
            "text/plain": [
              "<Figure size 432x288 with 1 Axes>"
            ]
          },
          "metadata": {
            "tags": [],
            "needs_background": "light"
          }
        }
      ]
    },
    {
      "cell_type": "markdown",
      "metadata": {
        "id": "Z60n3ZVxJkva",
        "colab_type": "text"
      },
      "source": [
        "## Lasso"
      ]
    },
    {
      "cell_type": "code",
      "metadata": {
        "id": "IOgtt1tWI0-q",
        "colab_type": "code",
        "colab": {
          "base_uri": "https://localhost:8080/",
          "height": 369
        },
        "outputId": "ae4f35ec-3f79-4792-e817-792cca499778"
      },
      "source": [
        "lasso = Lasso()\n",
        "param = {'alpha':[1e-15, 1e-10, 1e-8, 1e-3, 1e-2, 1, 5, 10, 20, 30, 35, 40, 45, 50, 55, 100], \n",
        "         'tol':[1e-15, 1e-10, 1e-8, 1e-3, 1e-2, 1, 5, 10, 20, 30, 35, 40, 45, 50, 55, 100], \n",
        "         'selection':['cyclic', 'random']}\n",
        "\n",
        "model = RandomizedSearchCV(lasso, param, scoring=\"neg_mean_squared_error\", cv=5)\n",
        "\n",
        "model.fit(x_train, y_train)\n",
        "print(model.best_params_)\n",
        "print(model.best_score_)\n",
        "model = model.best_estimator_\n",
        "pred = model.predict(x_test)\n",
        "sns.distplot(y_test.values - pred, bins=20)\n",
        "print(model.coef_)\n",
        "#higher the value better the fit\n",
        "print(\"R-squared value : \\t\", 1 - np.sqrt(metrics.mean_squared_error(y_test, pred)))"
      ],
      "execution_count": 240,
      "outputs": [
        {
          "output_type": "stream",
          "text": [
            "{'tol': 1e-15, 'selection': 'cyclic', 'alpha': 0.01}\n",
            "-0.20123934817914008\n",
            "[ 0.30232237  0.1070477   0.08481096 -0.         -0.0566188   0.08608508\n",
            "  0.         -0.         -0.         -0.         -0.         -0.\n",
            "  0.18906851 -0.09774439]\n",
            "R-squared value : \t 0.6159769754806048\n"
          ],
          "name": "stdout"
        },
        {
          "output_type": "display_data",
          "data": {
            "image/png": "[encoded data removed]",
            "text/plain": [
              "<Figure size 432x288 with 1 Axes>"
            ]
          },
          "metadata": {
            "tags": [],
            "needs_background": "light"
          }
        }
      ]
    },
    {
      "cell_type": "code",
      "metadata": {
        "id": "-Z8kfsj9JzPn",
        "colab_type": "code",
        "colab": {
          "base_uri": "https://localhost:8080/",
          "height": 317
        },
        "outputId": "cffe51c8-32c3-49d2-d716-d58cc712f471"
      },
      "source": [
        "features = SelectFromModel(model)\n",
        "features.fit(x_train, y_train)\n",
        "selected_feat = x_train.columns[(features.get_support())]\n",
        "xFeatTrain = x_train[selected_feat]\n",
        "xFeatTest = x_test[selected_feat]\n",
        "model.fit(xFeatTrain, y_train)\n",
        "pred = model.predict(xFeatTest)\n",
        "sns.distplot(y_test.values - pred, bins=20)\n",
        "print(model.coef_)\n",
        "#higher the value better the fit\n",
        "print(\"R-squared value : \\t\", 1 - np.sqrt(metrics.mean_squared_error(y_test, pred)))"
      ],
      "execution_count": 241,
      "outputs": [
        {
          "output_type": "stream",
          "text": [
            "[ 0.30232237  0.1070477   0.08481096 -0.0566188   0.08608508  0.18906851\n",
            " -0.09774439]\n",
            "R-squared value : \t 0.6159769754806048\n"
          ],
          "name": "stdout"
        },
        {
          "output_type": "display_data",
          "data": {
            "image/png": "[encoded data removed]",
            "text/plain": [
              "<Figure size 432x288 with 1 Axes>"
            ]
          },
          "metadata": {
            "tags": [],
            "needs_background": "light"
          }
        }
      ]
    },
    {
      "cell_type": "markdown",
      "metadata": {
        "id": "6d_niK3EKUHC",
        "colab_type": "text"
      },
      "source": [
        "## Bayesian Ridge"
      ]
    },
    {
      "cell_type": "code",
      "metadata": {
        "id": "GRuBVJHpJ2oi",
        "colab_type": "code",
        "colab": {
          "base_uri": "https://localhost:8080/",
          "height": 1000
        },
        "outputId": "156695fb-f4c7-410d-a3a3-64383184787d"
      },
      "source": [
        "bayesian = BayesianRidge()\n",
        "param = {'alpha_1':[1e-15, 1e-10, 1e-8, 1e-3, 1e-2, 1, 5, 10, 20, 30, 35, 40, 45, 50, 55, 100],\n",
        "         'alpha_2':[1e-15, 1e-10, 1e-8, 1e-3, 1e-2, 1, 5, 10, 20, 30, 35, 40, 45, 50, 55, 100], \n",
        "         'lambda_1':[1e-15, 1e-10, 1e-8, 1e-3, 1e-2, 1, 5, 10, 20, 30, 35, 40, 45, 50, 55, 100],\n",
        "         'lambda_2':[1e-15, 1e-10, 1e-8, 1e-3, 1e-2, 1, 5, 10, 20, 30, 35, 40, 45, 50, 55, 100],\n",
        "         'tol':[1e-15, 1e-10, 1e-8, 1e-3, 1e-2, 1, 5, 10, 20, 30, 35, 40, 45, 50, 55, 100], \n",
        "         'n_iter':[10, 100, 500, 1000, 5000, 10000, 50000, 100000, 500000, 1000000, 5000000, 10000000]}\n",
        "\n",
        "model = RandomizedSearchCV(bayesian, param, scoring=\"neg_mean_squared_error\", cv=5)\n",
        "\n",
        "model.fit(x_train.values, y_train.values)\n",
        "print(model.best_params_)\n",
        "print(model.best_score_)\n",
        "model = model.best_estimator_\n",
        "pred = model.predict(x_test)\n",
        "sns.distplot(y_test.values - pred, bins=20)\n",
        "print(model.coef_)\n",
        "#higher the value better the fit\n",
        "print(\"R-squared value : \\t\", 1 - np.sqrt(metrics.mean_squared_error(y_test, pred)))"
      ],
      "execution_count": 242,
      "outputs": [
        {
          "output_type": "stream",
          "text": [
            "/usr/local/lib/python3.6/dist-packages/sklearn/utils/validation.py:760: DataConversionWarning: A column-vector y was passed when a 1d array was expected. Please change the shape of y to (n_samples, ), for example using ravel().\n",
            "  y = column_or_1d(y, warn=True)\n",
            "/usr/local/lib/python3.6/dist-packages/sklearn/utils/validation.py:760: DataConversionWarning: A column-vector y was passed when a 1d array was expected. Please change the shape of y to (n_samples, ), for example using ravel().\n",
            "  y = column_or_1d(y, warn=True)\n",
            "/usr/local/lib/python3.6/dist-packages/sklearn/utils/validation.py:760: DataConversionWarning: A column-vector y was passed when a 1d array was expected. Please change the shape of y to (n_samples, ), for example using ravel().\n",
            "  y = column_or_1d(y, warn=True)\n",
            "/usr/local/lib/python3.6/dist-packages/sklearn/utils/validation.py:760: DataConversionWarning: A column-vector y was passed when a 1d array was expected. Please change the shape of y to (n_samples, ), for example using ravel().\n",
            "  y = column_or_1d(y, warn=True)\n",
            "/usr/local/lib/python3.6/dist-packages/sklearn/utils/validation.py:760: DataConversionWarning: A column-vector y was passed when a 1d array was expected. Please change the shape of y to (n_samples, ), for example using ravel().\n",
            "  y = column_or_1d(y, warn=True)\n",
            "/usr/local/lib/python3.6/dist-packages/sklearn/utils/validation.py:760: DataConversionWarning: A column-vector y was passed when a 1d array was expected. Please change the shape of y to (n_samples, ), for example using ravel().\n",
            "  y = column_or_1d(y, warn=True)\n",
            "/usr/local/lib/python3.6/dist-packages/sklearn/utils/validation.py:760: DataConversionWarning: A column-vector y was passed when a 1d array was expected. Please change the shape of y to (n_samples, ), for example using ravel().\n",
            "  y = column_or_1d(y, warn=True)\n",
            "/usr/local/lib/python3.6/dist-packages/sklearn/utils/validation.py:760: DataConversionWarning: A column-vector y was passed when a 1d array was expected. Please change the shape of y to (n_samples, ), for example using ravel().\n",
            "  y = column_or_1d(y, warn=True)\n",
            "/usr/local/lib/python3.6/dist-packages/sklearn/utils/validation.py:760: DataConversionWarning: A column-vector y was passed when a 1d array was expected. Please change the shape of y to (n_samples, ), for example using ravel().\n",
            "  y = column_or_1d(y, warn=True)\n",
            "/usr/local/lib/python3.6/dist-packages/sklearn/utils/validation.py:760: DataConversionWarning: A column-vector y was passed when a 1d array was expected. Please change the shape of y to (n_samples, ), for example using ravel().\n",
            "  y = column_or_1d(y, warn=True)\n",
            "/usr/local/lib/python3.6/dist-packages/sklearn/utils/validation.py:760: DataConversionWarning: A column-vector y was passed when a 1d array was expected. Please change the shape of y to (n_samples, ), for example using ravel().\n",
            "  y = column_or_1d(y, warn=True)\n",
            "/usr/local/lib/python3.6/dist-packages/sklearn/utils/validation.py:760: DataConversionWarning: A column-vector y was passed when a 1d array was expected. Please change the shape of y to (n_samples, ), for example using ravel().\n",
            "  y = column_or_1d(y, warn=True)\n",
            "/usr/local/lib/python3.6/dist-packages/sklearn/utils/validation.py:760: DataConversionWarning: A column-vector y was passed when a 1d array was expected. Please change the shape of y to (n_samples, ), for example using ravel().\n",
            "  y = column_or_1d(y, warn=True)\n",
            "/usr/local/lib/python3.6/dist-packages/sklearn/utils/validation.py:760: DataConversionWarning: A column-vector y was passed when a 1d array was expected. Please change the shape of y to (n_samples, ), for example using ravel().\n",
            "  y = column_or_1d(y, warn=True)\n",
            "/usr/local/lib/python3.6/dist-packages/sklearn/utils/validation.py:760: DataConversionWarning: A column-vector y was passed when a 1d array was expected. Please change the shape of y to (n_samples, ), for example using ravel().\n",
            "  y = column_or_1d(y, warn=True)\n",
            "/usr/local/lib/python3.6/dist-packages/sklearn/utils/validation.py:760: DataConversionWarning: A column-vector y was passed when a 1d array was expected. Please change the shape of y to (n_samples, ), for example using ravel().\n",
            "  y = column_or_1d(y, warn=True)\n",
            "/usr/local/lib/python3.6/dist-packages/sklearn/utils/validation.py:760: DataConversionWarning: A column-vector y was passed when a 1d array was expected. Please change the shape of y to (n_samples, ), for example using ravel().\n",
            "  y = column_or_1d(y, warn=True)\n",
            "/usr/local/lib/python3.6/dist-packages/sklearn/utils/validation.py:760: DataConversionWarning: A column-vector y was passed when a 1d array was expected. Please change the shape of y to (n_samples, ), for example using ravel().\n",
            "  y = column_or_1d(y, warn=True)\n",
            "/usr/local/lib/python3.6/dist-packages/sklearn/utils/validation.py:760: DataConversionWarning: A column-vector y was passed when a 1d array was expected. Please change the shape of y to (n_samples, ), for example using ravel().\n",
            "  y = column_or_1d(y, warn=True)\n",
            "/usr/local/lib/python3.6/dist-packages/sklearn/utils/validation.py:760: DataConversionWarning: A column-vector y was passed when a 1d array was expected. Please change the shape of y to (n_samples, ), for example using ravel().\n",
            "  y = column_or_1d(y, warn=True)\n",
            "/usr/local/lib/python3.6/dist-packages/sklearn/utils/validation.py:760: DataConversionWarning: A column-vector y was passed when a 1d array was expected. Please change the shape of y to (n_samples, ), for example using ravel().\n",
            "  y = column_or_1d(y, warn=True)\n",
            "/usr/local/lib/python3.6/dist-packages/sklearn/utils/validation.py:760: DataConversionWarning: A column-vector y was passed when a 1d array was expected. Please change the shape of y to (n_samples, ), for example using ravel().\n",
            "  y = column_or_1d(y, warn=True)\n",
            "/usr/local/lib/python3.6/dist-packages/sklearn/utils/validation.py:760: DataConversionWarning: A column-vector y was passed when a 1d array was expected. Please change the shape of y to (n_samples, ), for example using ravel().\n",
            "  y = column_or_1d(y, warn=True)\n",
            "/usr/local/lib/python3.6/dist-packages/sklearn/utils/validation.py:760: DataConversionWarning: A column-vector y was passed when a 1d array was expected. Please change the shape of y to (n_samples, ), for example using ravel().\n",
            "  y = column_or_1d(y, warn=True)\n",
            "/usr/local/lib/python3.6/dist-packages/sklearn/utils/validation.py:760: DataConversionWarning: A column-vector y was passed when a 1d array was expected. Please change the shape of y to (n_samples, ), for example using ravel().\n",
            "  y = column_or_1d(y, warn=True)\n",
            "/usr/local/lib/python3.6/dist-packages/sklearn/utils/validation.py:760: DataConversionWarning: A column-vector y was passed when a 1d array was expected. Please change the shape of y to (n_samples, ), for example using ravel().\n",
            "  y = column_or_1d(y, warn=True)\n",
            "/usr/local/lib/python3.6/dist-packages/sklearn/utils/validation.py:760: DataConversionWarning: A column-vector y was passed when a 1d array was expected. Please change the shape of y to (n_samples, ), for example using ravel().\n",
            "  y = column_or_1d(y, warn=True)\n",
            "/usr/local/lib/python3.6/dist-packages/sklearn/utils/validation.py:760: DataConversionWarning: A column-vector y was passed when a 1d array was expected. Please change the shape of y to (n_samples, ), for example using ravel().\n",
            "  y = column_or_1d(y, warn=True)\n",
            "/usr/local/lib/python3.6/dist-packages/sklearn/utils/validation.py:760: DataConversionWarning: A column-vector y was passed when a 1d array was expected. Please change the shape of y to (n_samples, ), for example using ravel().\n",
            "  y = column_or_1d(y, warn=True)\n",
            "/usr/local/lib/python3.6/dist-packages/sklearn/utils/validation.py:760: DataConversionWarning: A column-vector y was passed when a 1d array was expected. Please change the shape of y to (n_samples, ), for example using ravel().\n",
            "  y = column_or_1d(y, warn=True)\n",
            "/usr/local/lib/python3.6/dist-packages/sklearn/utils/validation.py:760: DataConversionWarning: A column-vector y was passed when a 1d array was expected. Please change the shape of y to (n_samples, ), for example using ravel().\n",
            "  y = column_or_1d(y, warn=True)\n",
            "/usr/local/lib/python3.6/dist-packages/sklearn/utils/validation.py:760: DataConversionWarning: A column-vector y was passed when a 1d array was expected. Please change the shape of y to (n_samples, ), for example using ravel().\n",
            "  y = column_or_1d(y, warn=True)\n",
            "/usr/local/lib/python3.6/dist-packages/sklearn/utils/validation.py:760: DataConversionWarning: A column-vector y was passed when a 1d array was expected. Please change the shape of y to (n_samples, ), for example using ravel().\n",
            "  y = column_or_1d(y, warn=True)\n",
            "/usr/local/lib/python3.6/dist-packages/sklearn/utils/validation.py:760: DataConversionWarning: A column-vector y was passed when a 1d array was expected. Please change the shape of y to (n_samples, ), for example using ravel().\n",
            "  y = column_or_1d(y, warn=True)\n",
            "/usr/local/lib/python3.6/dist-packages/sklearn/utils/validation.py:760: DataConversionWarning: A column-vector y was passed when a 1d array was expected. Please change the shape of y to (n_samples, ), for example using ravel().\n",
            "  y = column_or_1d(y, warn=True)\n",
            "/usr/local/lib/python3.6/dist-packages/sklearn/utils/validation.py:760: DataConversionWarning: A column-vector y was passed when a 1d array was expected. Please change the shape of y to (n_samples, ), for example using ravel().\n",
            "  y = column_or_1d(y, warn=True)\n",
            "/usr/local/lib/python3.6/dist-packages/sklearn/utils/validation.py:760: DataConversionWarning: A column-vector y was passed when a 1d array was expected. Please change the shape of y to (n_samples, ), for example using ravel().\n",
            "  y = column_or_1d(y, warn=True)\n",
            "/usr/local/lib/python3.6/dist-packages/sklearn/utils/validation.py:760: DataConversionWarning: A column-vector y was passed when a 1d array was expected. Please change the shape of y to (n_samples, ), for example using ravel().\n",
            "  y = column_or_1d(y, warn=True)\n",
            "/usr/local/lib/python3.6/dist-packages/sklearn/utils/validation.py:760: DataConversionWarning: A column-vector y was passed when a 1d array was expected. Please change the shape of y to (n_samples, ), for example using ravel().\n",
            "  y = column_or_1d(y, warn=True)\n",
            "/usr/local/lib/python3.6/dist-packages/sklearn/utils/validation.py:760: DataConversionWarning: A column-vector y was passed when a 1d array was expected. Please change the shape of y to (n_samples, ), for example using ravel().\n",
            "  y = column_or_1d(y, warn=True)\n",
            "/usr/local/lib/python3.6/dist-packages/sklearn/utils/validation.py:760: DataConversionWarning: A column-vector y was passed when a 1d array was expected. Please change the shape of y to (n_samples, ), for example using ravel().\n",
            "  y = column_or_1d(y, warn=True)\n",
            "/usr/local/lib/python3.6/dist-packages/sklearn/utils/validation.py:760: DataConversionWarning: A column-vector y was passed when a 1d array was expected. Please change the shape of y to (n_samples, ), for example using ravel().\n",
            "  y = column_or_1d(y, warn=True)\n",
            "/usr/local/lib/python3.6/dist-packages/sklearn/utils/validation.py:760: DataConversionWarning: A column-vector y was passed when a 1d array was expected. Please change the shape of y to (n_samples, ), for example using ravel().\n",
            "  y = column_or_1d(y, warn=True)\n",
            "/usr/local/lib/python3.6/dist-packages/sklearn/utils/validation.py:760: DataConversionWarning: A column-vector y was passed when a 1d array was expected. Please change the shape of y to (n_samples, ), for example using ravel().\n",
            "  y = column_or_1d(y, warn=True)\n",
            "/usr/local/lib/python3.6/dist-packages/sklearn/utils/validation.py:760: DataConversionWarning: A column-vector y was passed when a 1d array was expected. Please change the shape of y to (n_samples, ), for example using ravel().\n",
            "  y = column_or_1d(y, warn=True)\n",
            "/usr/local/lib/python3.6/dist-packages/sklearn/utils/validation.py:760: DataConversionWarning: A column-vector y was passed when a 1d array was expected. Please change the shape of y to (n_samples, ), for example using ravel().\n",
            "  y = column_or_1d(y, warn=True)\n",
            "/usr/local/lib/python3.6/dist-packages/sklearn/utils/validation.py:760: DataConversionWarning: A column-vector y was passed when a 1d array was expected. Please change the shape of y to (n_samples, ), for example using ravel().\n",
            "  y = column_or_1d(y, warn=True)\n",
            "/usr/local/lib/python3.6/dist-packages/sklearn/utils/validation.py:760: DataConversionWarning: A column-vector y was passed when a 1d array was expected. Please change the shape of y to (n_samples, ), for example using ravel().\n",
            "  y = column_or_1d(y, warn=True)\n",
            "/usr/local/lib/python3.6/dist-packages/sklearn/utils/validation.py:760: DataConversionWarning: A column-vector y was passed when a 1d array was expected. Please change the shape of y to (n_samples, ), for example using ravel().\n",
            "  y = column_or_1d(y, warn=True)\n",
            "/usr/local/lib/python3.6/dist-packages/sklearn/utils/validation.py:760: DataConversionWarning: A column-vector y was passed when a 1d array was expected. Please change the shape of y to (n_samples, ), for example using ravel().\n",
            "  y = column_or_1d(y, warn=True)\n",
            "/usr/local/lib/python3.6/dist-packages/sklearn/utils/validation.py:760: DataConversionWarning: A column-vector y was passed when a 1d array was expected. Please change the shape of y to (n_samples, ), for example using ravel().\n",
            "  y = column_or_1d(y, warn=True)\n"
          ],
          "name": "stderr"
        },
        {
          "output_type": "stream",
          "text": [
            "{'tol': 1, 'n_iter': 500000, 'lambda_2': 0.001, 'lambda_1': 0.001, 'alpha_2': 0.001, 'alpha_1': 45}\n",
            "-0.20269937930402068\n",
            "[ 0.28520844  0.12579153  0.10753093 -0.03551565 -0.07605709  0.1113876\n",
            "  0.05329967 -0.05974892 -0.02393791  0.01178654 -0.03710055 -0.02605066\n",
            "  0.20342867 -0.11680615]\n",
            "R-squared value : \t 0.6187573123842638\n"
          ],
          "name": "stdout"
        },
        {
          "output_type": "display_data",
          "data": {
            "image/png": "[encoded data removed]",
            "text/plain": [
              "<Figure size 432x288 with 1 Axes>"
            ]
          },
          "metadata": {
            "tags": [],
            "needs_background": "light"
          }
        }
      ]
    },
    {
      "cell_type": "code",
      "metadata": {
        "id": "HB0qdDuFLUgV",
        "colab_type": "code",
        "colab": {
          "base_uri": "https://localhost:8080/",
          "height": 389
        },
        "outputId": "43bc9f28-9b44-4892-f5d4-77659060233d"
      },
      "source": [
        "features = SelectFromModel(model)\n",
        "features.fit(x_train, y_train)\n",
        "selected_feat = x_train.columns[(features.get_support())]\n",
        "xFeatTrain = x_train[selected_feat]\n",
        "xFeatTest = x_test[selected_feat]\n",
        "model.fit(xFeatTrain, y_train)\n",
        "pred = model.predict(xFeatTest)\n",
        "sns.distplot(y_test.values - pred, bins=20)\n",
        "print(model.coef_)\n",
        "#higher the value better the fit\n",
        "print(\"R-squared value : \\t\", 1 - np.sqrt(metrics.mean_squared_error(y_test, pred)))"
      ],
      "execution_count": 243,
      "outputs": [
        {
          "output_type": "stream",
          "text": [
            "[ 0.2875099   0.09969444  0.09259566  0.13739621  0.19255886 -0.11697146]\n",
            "R-squared value : \t 0.6123204996640934\n"
          ],
          "name": "stdout"
        },
        {
          "output_type": "stream",
          "text": [
            "/usr/local/lib/python3.6/dist-packages/sklearn/utils/validation.py:760: DataConversionWarning: A column-vector y was passed when a 1d array was expected. Please change the shape of y to (n_samples, ), for example using ravel().\n",
            "  y = column_or_1d(y, warn=True)\n",
            "/usr/local/lib/python3.6/dist-packages/sklearn/utils/validation.py:760: DataConversionWarning: A column-vector y was passed when a 1d array was expected. Please change the shape of y to (n_samples, ), for example using ravel().\n",
            "  y = column_or_1d(y, warn=True)\n"
          ],
          "name": "stderr"
        },
        {
          "output_type": "display_data",
          "data": {
            "image/png": "[encoded data removed]",
            "text/plain": [
              "<Figure size 432x288 with 1 Axes>"
            ]
          },
          "metadata": {
            "tags": [],
            "needs_background": "light"
          }
        }
      ]
    },
    {
      "cell_type": "markdown",
      "metadata": {
        "id": "iFDrpqkYMW_j",
        "colab_type": "text"
      },
      "source": [
        "## RANSAC"
      ]
    },
    {
      "cell_type": "code",
      "metadata": {
        "id": "o9kUWf7gLhM4",
        "colab_type": "code",
        "colab": {
          "base_uri": "https://localhost:8080/",
          "height": 317
        },
        "outputId": "8f20a7eb-a638-46dc-9ce2-111298f43147"
      },
      "source": [
        "ransac = RANSACRegressor()\n",
        "param = {'stop_n_inliers':[1, 5, 10, 20, 30, 35, 40, 45, 50, 55, 100],\n",
        "         'stop_score':[1e-15, 1e-10, 1e-8, 1e-3, 1e-2, 1, 5, 10, 20, 30, 35, 40, 45, 50, 55, 100],\n",
        "         'stop_probability':[1e-30, 1e-25, 1e-20, 1e-15, 1e-10, 1e-8, 1e-5, 1e-4, 1e-3, 1e-2],\n",
        "         'max_trials':[10, 100, 500, 1000, 5000, 10000, 50000, 100000, 500000, 1000000, 5000000, 10000000], \n",
        "         'min_samples':[1, 5, 10, 15, 20]}\n",
        "\n",
        "model = RandomizedSearchCV(ransac, param, scoring=\"neg_mean_squared_error\", cv=5)\n",
        "\n",
        "model.fit(x_train.values, y_train.values)\n",
        "print(model.best_params_)\n",
        "print(model.best_score_)\n",
        "model = model.best_estimator_\n",
        "pred = model.predict(x_test)\n",
        "sns.distplot(y_test.values - pred, bins=20)\n",
        "#higher the value better the fit\n",
        "print(\"R-squared value : \\t\", 1 - np.sqrt(metrics.mean_squared_error(y_test, pred)))"
      ],
      "execution_count": 257,
      "outputs": [
        {
          "output_type": "stream",
          "text": [
            "{'stop_score': 40, 'stop_probability': 0.01, 'stop_n_inliers': 55, 'min_samples': 15, 'max_trials': 500}\n",
            "-0.3095818927995423\n",
            "R-squared value : \t 0.561697299286015\n"
          ],
          "name": "stdout"
        },
        {
          "output_type": "display_data",
          "data": {
            "image/png": "[encoded data removed]",
            "text/plain": [
              "<Figure size 432x288 with 1 Axes>"
            ]
          },
          "metadata": {
            "tags": [],
            "needs_background": "light"
          }
        }
      ]
    },
    {
      "cell_type": "markdown",
      "metadata": {
        "id": "V1tZ3h3zQP5N",
        "colab_type": "text"
      },
      "source": [
        "## Decision Tree Regressor"
      ]
    },
    {
      "cell_type": "code",
      "metadata": {
        "id": "aV6eHjgrOEah",
        "colab_type": "code",
        "colab": {
          "base_uri": "https://localhost:8080/",
          "height": 337
        },
        "outputId": "abc12abe-0cc6-4bef-8978-2c05ec31cf79"
      },
      "source": [
        "tree = DecisionTreeRegressor()\n",
        "param = {'criterion':[\"mse\", \"friedman_mse\", \"mae\"],\n",
        "         'splitter':[\"best\", \"random\"], \n",
        "         'ccp_alpha':[1e-15, 1e-10, 1e-8, 1e-3, 1e-2, 1, 5, 10, 20, 30, 35, 40, 45, 50, 55, 100],\n",
        "         'max_depth':[None,3,6,9,12], 'min_samples_split':[50,30,10,5, 2], \n",
        "         'min_samples_leaf':[1,5,9,12], 'min_weight_fraction_leaf':[0, 0.1, 0.2, 0.5], \n",
        "         'max_features':['auto', 'sqrt', 'log2'], 'max_leaf_nodes':[None, 50, 100, 10], \n",
        "         'min_impurity_decrease':[0.0, 0.5, 1.0, 1.5]}\n",
        "\n",
        "model = RandomizedSearchCV(tree, param, scoring=\"neg_mean_squared_error\", cv=5)\n",
        "\n",
        "model.fit(x_train.values, y_train.values)\n",
        "print(model.best_params_)\n",
        "print(model.best_score_)\n",
        "model = model.best_estimator_\n",
        "pred = model.predict(x_test)\n",
        "sns.distplot(y_test.values - pred, bins=20)\n",
        "#higher the value better the fit\n",
        "print(\"R-squared value : \\t\", 1 - np.sqrt(metrics.mean_squared_error(y_test, pred)))"
      ],
      "execution_count": 245,
      "outputs": [
        {
          "output_type": "stream",
          "text": [
            "{'splitter': 'best', 'min_weight_fraction_leaf': 0.5, 'min_samples_split': 30, 'min_samples_leaf': 5, 'min_impurity_decrease': 0.5, 'max_leaf_nodes': 10, 'max_features': 'auto', 'max_depth': 12, 'criterion': 'friedman_mse', 'ccp_alpha': 40}\n",
            "-0.3159452051142163\n",
            "R-squared value : \t 0.5040682291051531\n"
          ],
          "name": "stdout"
        },
        {
          "output_type": "display_data",
          "data": {
            "image/png": "[encoded data removed]",
            "text/plain": [
              "<Figure size 432x288 with 1 Axes>"
            ]
          },
          "metadata": {
            "tags": [],
            "needs_background": "light"
          }
        }
      ]
    },
    {
      "cell_type": "code",
      "metadata": {
        "id": "zHKDO7VrOMcf",
        "colab_type": "code",
        "colab": {
          "base_uri": "https://localhost:8080/",
          "height": 282
        },
        "outputId": "725e86a1-9fb2-4b01-f55a-88ca7f5f3f5a"
      },
      "source": [
        "features = SelectFromModel(model)\n",
        "features.fit(x_train, y_train)\n",
        "selected_feat = x_train.columns[(features.get_support())]\n",
        "xFeatTrain = x_train[selected_feat]\n",
        "xFeatTest = x_test[selected_feat]\n",
        "model.fit(xFeatTrain, y_train)\n",
        "pred = model.predict(xFeatTest)\n",
        "sns.distplot(y_test.values - pred, bins=20)\n",
        "#higher the value better the fit\n",
        "print(\"R-squared value : \\t\", 1 - np.sqrt(metrics.mean_squared_error(y_test, pred)))"
      ],
      "execution_count": 246,
      "outputs": [
        {
          "output_type": "stream",
          "text": [
            "R-squared value : \t 0.5040682291051531\n"
          ],
          "name": "stdout"
        },
        {
          "output_type": "display_data",
          "data": {
            "image/png": "[encoded data removed]",
            "text/plain": [
              "<Figure size 432x288 with 1 Axes>"
            ]
          },
          "metadata": {
            "tags": [],
            "needs_background": "light"
          }
        }
      ]
    },
    {
      "cell_type": "markdown",
      "metadata": {
        "id": "tTUincEoRhZ-",
        "colab_type": "text"
      },
      "source": [
        "## MLP Regressor"
      ]
    },
    {
      "cell_type": "code",
      "metadata": {
        "id": "tjnJsH2gRJ2M",
        "colab_type": "code",
        "colab": {
          "base_uri": "https://localhost:8080/",
          "height": 1000
        },
        "outputId": "0fdf0014-8c2b-4363-ed66-8b21077e7892"
      },
      "source": [
        "mlp = MLPRegressor()\n",
        "param = {'activation':[\"identity\", \"logistic\", \"tanh\", \"relu\"],\n",
        "         'solver':[\"lbfgs\", \"sgd\", \"adam\"], \n",
        "         'alpha':[1e-15, 1e-10, 1e-8, 1e-3, 1e-2, 1, 5, 10, 20, 30, 35, 40, 45, 50, 55, 100],\n",
        "         'learning_rate_init':[0, 0.1, 0.2, 0.5], \n",
        "         'learning_rate':['constant', 'invscaling', 'adaptive'],\n",
        "         'tol':[1e-15, 1e-10, 1e-8, 1e-3, 1e-2, 1, 5, 10, 20, 30, 35, 40, 45, 50, 55, 100], \n",
        "         'max_iter':[10, 100, 500, 1000, 5000, 10000, 50000, 100000, 500000, 1000000, 5000000, 10000000],\n",
        "         'batch_size':[10,20,30, 50, 70, 80], \n",
        "         'momentum' : [1e-15, 1e-10, 1e-8,1e-5,1e-4, 1e-3, 1e-2]}\n",
        "\n",
        "model = RandomizedSearchCV(mlp, param, scoring=\"neg_mean_squared_error\", cv=5)\n",
        "\n",
        "model.fit(x_train.values, y_train.values)\n",
        "print(model.best_params_)\n",
        "print(model.best_score_)\n",
        "model = model.best_estimator_\n",
        "pred = model.predict(x_test)\n",
        "sns.distplot(y_test.values - pred, bins=20)\n",
        "#higher the value better the fit\n",
        "print(\"R-squared value : \\t\", 1 - np.sqrt(metrics.mean_squared_error(y_test, pred)))"
      ],
      "execution_count": 248,
      "outputs": [
        {
          "output_type": "stream",
          "text": [
            "/usr/local/lib/python3.6/dist-packages/sklearn/neural_network/_multilayer_perceptron.py:1342: DataConversionWarning: A column-vector y was passed when a 1d array was expected. Please change the shape of y to (n_samples, ), for example using ravel().\n",
            "  y = column_or_1d(y, warn=True)\n",
            "/usr/local/lib/python3.6/dist-packages/sklearn/neural_network/_multilayer_perceptron.py:1342: DataConversionWarning: A column-vector y was passed when a 1d array was expected. Please change the shape of y to (n_samples, ), for example using ravel().\n",
            "  y = column_or_1d(y, warn=True)\n",
            "/usr/local/lib/python3.6/dist-packages/sklearn/neural_network/_multilayer_perceptron.py:1342: DataConversionWarning: A column-vector y was passed when a 1d array was expected. Please change the shape of y to (n_samples, ), for example using ravel().\n",
            "  y = column_or_1d(y, warn=True)\n",
            "/usr/local/lib/python3.6/dist-packages/sklearn/neural_network/_multilayer_perceptron.py:1342: DataConversionWarning: A column-vector y was passed when a 1d array was expected. Please change the shape of y to (n_samples, ), for example using ravel().\n",
            "  y = column_or_1d(y, warn=True)\n",
            "/usr/local/lib/python3.6/dist-packages/sklearn/neural_network/_multilayer_perceptron.py:1342: DataConversionWarning: A column-vector y was passed when a 1d array was expected. Please change the shape of y to (n_samples, ), for example using ravel().\n",
            "  y = column_or_1d(y, warn=True)\n",
            "/usr/local/lib/python3.6/dist-packages/sklearn/model_selection/_validation.py:536: FitFailedWarning: Estimator fit failed. The score on this train-test partition for these parameters will be set to nan. Details: \n",
            "ValueError: learning_rate_init must be > 0, got invscaling.\n",
            "\n",
            "  FitFailedWarning)\n",
            "/usr/local/lib/python3.6/dist-packages/sklearn/neural_network/_multilayer_perceptron.py:1342: DataConversionWarning: A column-vector y was passed when a 1d array was expected. Please change the shape of y to (n_samples, ), for example using ravel().\n",
            "  y = column_or_1d(y, warn=True)\n",
            "/usr/local/lib/python3.6/dist-packages/sklearn/neural_network/_multilayer_perceptron.py:1342: DataConversionWarning: A column-vector y was passed when a 1d array was expected. Please change the shape of y to (n_samples, ), for example using ravel().\n",
            "  y = column_or_1d(y, warn=True)\n",
            "/usr/local/lib/python3.6/dist-packages/sklearn/neural_network/_multilayer_perceptron.py:1342: DataConversionWarning: A column-vector y was passed when a 1d array was expected. Please change the shape of y to (n_samples, ), for example using ravel().\n",
            "  y = column_or_1d(y, warn=True)\n",
            "/usr/local/lib/python3.6/dist-packages/sklearn/neural_network/_multilayer_perceptron.py:1342: DataConversionWarning: A column-vector y was passed when a 1d array was expected. Please change the shape of y to (n_samples, ), for example using ravel().\n",
            "  y = column_or_1d(y, warn=True)\n",
            "/usr/local/lib/python3.6/dist-packages/sklearn/neural_network/_multilayer_perceptron.py:1342: DataConversionWarning: A column-vector y was passed when a 1d array was expected. Please change the shape of y to (n_samples, ), for example using ravel().\n",
            "  y = column_or_1d(y, warn=True)\n",
            "/usr/local/lib/python3.6/dist-packages/sklearn/model_selection/_validation.py:536: FitFailedWarning: Estimator fit failed. The score on this train-test partition for these parameters will be set to nan. Details: \n",
            "ValueError: learning_rate_init must be > 0, got invscaling.\n",
            "\n",
            "  FitFailedWarning)\n",
            "/usr/local/lib/python3.6/dist-packages/sklearn/model_selection/_validation.py:536: FitFailedWarning: Estimator fit failed. The score on this train-test partition for these parameters will be set to nan. Details: \n",
            "ValueError: learning_rate_init must be > 0, got constant.\n",
            "\n",
            "  FitFailedWarning)\n",
            "/usr/local/lib/python3.6/dist-packages/sklearn/neural_network/_multilayer_perceptron.py:1342: DataConversionWarning: A column-vector y was passed when a 1d array was expected. Please change the shape of y to (n_samples, ), for example using ravel().\n",
            "  y = column_or_1d(y, warn=True)\n",
            "/usr/local/lib/python3.6/dist-packages/sklearn/neural_network/_multilayer_perceptron.py:1342: DataConversionWarning: A column-vector y was passed when a 1d array was expected. Please change the shape of y to (n_samples, ), for example using ravel().\n",
            "  y = column_or_1d(y, warn=True)\n",
            "/usr/local/lib/python3.6/dist-packages/sklearn/neural_network/_multilayer_perceptron.py:1342: DataConversionWarning: A column-vector y was passed when a 1d array was expected. Please change the shape of y to (n_samples, ), for example using ravel().\n",
            "  y = column_or_1d(y, warn=True)\n",
            "/usr/local/lib/python3.6/dist-packages/sklearn/neural_network/_multilayer_perceptron.py:1342: DataConversionWarning: A column-vector y was passed when a 1d array was expected. Please change the shape of y to (n_samples, ), for example using ravel().\n",
            "  y = column_or_1d(y, warn=True)\n",
            "/usr/local/lib/python3.6/dist-packages/sklearn/neural_network/_multilayer_perceptron.py:1342: DataConversionWarning: A column-vector y was passed when a 1d array was expected. Please change the shape of y to (n_samples, ), for example using ravel().\n",
            "  y = column_or_1d(y, warn=True)\n",
            "/usr/local/lib/python3.6/dist-packages/sklearn/neural_network/_multilayer_perceptron.py:1342: DataConversionWarning: A column-vector y was passed when a 1d array was expected. Please change the shape of y to (n_samples, ), for example using ravel().\n",
            "  y = column_or_1d(y, warn=True)\n",
            "/usr/local/lib/python3.6/dist-packages/sklearn/neural_network/_multilayer_perceptron.py:1342: DataConversionWarning: A column-vector y was passed when a 1d array was expected. Please change the shape of y to (n_samples, ), for example using ravel().\n",
            "  y = column_or_1d(y, warn=True)\n",
            "/usr/local/lib/python3.6/dist-packages/sklearn/neural_network/_multilayer_perceptron.py:1342: DataConversionWarning: A column-vector y was passed when a 1d array was expected. Please change the shape of y to (n_samples, ), for example using ravel().\n",
            "  y = column_or_1d(y, warn=True)\n",
            "/usr/local/lib/python3.6/dist-packages/sklearn/neural_network/_multilayer_perceptron.py:1342: DataConversionWarning: A column-vector y was passed when a 1d array was expected. Please change the shape of y to (n_samples, ), for example using ravel().\n",
            "  y = column_or_1d(y, warn=True)\n",
            "/usr/local/lib/python3.6/dist-packages/sklearn/neural_network/_multilayer_perceptron.py:1342: DataConversionWarning: A column-vector y was passed when a 1d array was expected. Please change the shape of y to (n_samples, ), for example using ravel().\n",
            "  y = column_or_1d(y, warn=True)\n",
            "/usr/local/lib/python3.6/dist-packages/sklearn/neural_network/_multilayer_perceptron.py:1342: DataConversionWarning: A column-vector y was passed when a 1d array was expected. Please change the shape of y to (n_samples, ), for example using ravel().\n",
            "  y = column_or_1d(y, warn=True)\n",
            "/usr/local/lib/python3.6/dist-packages/sklearn/neural_network/_multilayer_perceptron.py:1342: DataConversionWarning: A column-vector y was passed when a 1d array was expected. Please change the shape of y to (n_samples, ), for example using ravel().\n",
            "  y = column_or_1d(y, warn=True)\n",
            "/usr/local/lib/python3.6/dist-packages/sklearn/neural_network/_multilayer_perceptron.py:1342: DataConversionWarning: A column-vector y was passed when a 1d array was expected. Please change the shape of y to (n_samples, ), for example using ravel().\n",
            "  y = column_or_1d(y, warn=True)\n",
            "/usr/local/lib/python3.6/dist-packages/sklearn/neural_network/_multilayer_perceptron.py:1342: DataConversionWarning: A column-vector y was passed when a 1d array was expected. Please change the shape of y to (n_samples, ), for example using ravel().\n",
            "  y = column_or_1d(y, warn=True)\n",
            "/usr/local/lib/python3.6/dist-packages/sklearn/neural_network/_multilayer_perceptron.py:1342: DataConversionWarning: A column-vector y was passed when a 1d array was expected. Please change the shape of y to (n_samples, ), for example using ravel().\n",
            "  y = column_or_1d(y, warn=True)\n",
            "/usr/local/lib/python3.6/dist-packages/sklearn/neural_network/_multilayer_perceptron.py:1342: DataConversionWarning: A column-vector y was passed when a 1d array was expected. Please change the shape of y to (n_samples, ), for example using ravel().\n",
            "  y = column_or_1d(y, warn=True)\n",
            "/usr/local/lib/python3.6/dist-packages/sklearn/neural_network/_multilayer_perceptron.py:1342: DataConversionWarning: A column-vector y was passed when a 1d array was expected. Please change the shape of y to (n_samples, ), for example using ravel().\n",
            "  y = column_or_1d(y, warn=True)\n",
            "/usr/local/lib/python3.6/dist-packages/sklearn/neural_network/_multilayer_perceptron.py:1342: DataConversionWarning: A column-vector y was passed when a 1d array was expected. Please change the shape of y to (n_samples, ), for example using ravel().\n",
            "  y = column_or_1d(y, warn=True)\n",
            "/usr/local/lib/python3.6/dist-packages/sklearn/neural_network/_multilayer_perceptron.py:1342: DataConversionWarning: A column-vector y was passed when a 1d array was expected. Please change the shape of y to (n_samples, ), for example using ravel().\n",
            "  y = column_or_1d(y, warn=True)\n",
            "/usr/local/lib/python3.6/dist-packages/sklearn/neural_network/_multilayer_perceptron.py:1342: DataConversionWarning: A column-vector y was passed when a 1d array was expected. Please change the shape of y to (n_samples, ), for example using ravel().\n",
            "  y = column_or_1d(y, warn=True)\n",
            "/usr/local/lib/python3.6/dist-packages/sklearn/neural_network/_multilayer_perceptron.py:1342: DataConversionWarning: A column-vector y was passed when a 1d array was expected. Please change the shape of y to (n_samples, ), for example using ravel().\n",
            "  y = column_or_1d(y, warn=True)\n"
          ],
          "name": "stderr"
        },
        {
          "output_type": "stream",
          "text": [
            "{'tol': 0.01, 'solver': 'sgd', 'momentum': 1e-05, 'max_iter': 10000, 'learning_rate_init': 0.1, 'learning_rate': 'adaptive', 'batch_size': 20, 'alpha': 1e-10, 'activation': 'logistic'}\n",
            "-0.22814262512705033\n",
            "R-squared value : \t 0.6225405469411889\n"
          ],
          "name": "stdout"
        },
        {
          "output_type": "display_data",
          "data": {
            "image/png": "[encoded data removed]",
            "text/plain": [
              "<Figure size 432x288 with 1 Axes>"
            ]
          },
          "metadata": {
            "tags": [],
            "needs_background": "light"
          }
        }
      ]
    },
    {
      "cell_type": "markdown",
      "metadata": {
        "id": "v6QILJoZU7Wh",
        "colab_type": "text"
      },
      "source": [
        "## K Neighbours Regressor"
      ]
    },
    {
      "cell_type": "code",
      "metadata": {
        "id": "Ji3xmzlpT_H0",
        "colab_type": "code",
        "colab": {
          "base_uri": "https://localhost:8080/",
          "height": 317
        },
        "outputId": "be74ae60-212b-4e2d-bc87-6d7426919d94"
      },
      "source": [
        "knn = KNeighborsRegressor()\n",
        "param = {'algorithm':[\"auto\", \"ball_tree\", \"kd_tree\", \"brute\"],\n",
        "         'weights':[\"uniform\", \"distance\"],\n",
        "         'n_neighbors':[1,5,10,15,20,25]}\n",
        "\n",
        "model = RandomizedSearchCV(knn, param, scoring=\"neg_mean_squared_error\", cv=5)\n",
        "\n",
        "model.fit(x_train.values, y_train.values)\n",
        "print(model.best_params_)\n",
        "print(model.best_score_)\n",
        "model = model.best_estimator_\n",
        "pred = model.predict(x_test)\n",
        "sns.distplot(y_test.values - pred, bins=20)\n",
        "#higher the value better the fit\n",
        "print(\"R-squared value : \\t\", 1 - np.sqrt(metrics.mean_squared_error(y_test, pred)))"
      ],
      "execution_count": 249,
      "outputs": [
        {
          "output_type": "stream",
          "text": [
            "{'weights': 'distance', 'n_neighbors': 10, 'algorithm': 'ball_tree'}\n",
            "-0.19650612236789936\n",
            "R-squared value : \t 0.5835115717250203\n"
          ],
          "name": "stdout"
        },
        {
          "output_type": "display_data",
          "data": {
            "image/png": "[encoded data removed]",
            "text/plain": [
              "<Figure size 432x288 with 1 Axes>"
            ]
          },
          "metadata": {
            "tags": [],
            "needs_background": "light"
          }
        }
      ]
    },
    {
      "cell_type": "markdown",
      "metadata": {
        "id": "9hSINSjHV3Wo",
        "colab_type": "text"
      },
      "source": [
        "## SVR"
      ]
    },
    {
      "cell_type": "code",
      "metadata": {
        "id": "xu5Qu3xkUz2W",
        "colab_type": "code",
        "colab": {
          "base_uri": "https://localhost:8080/",
          "height": 1000
        },
        "outputId": "d4d43c24-e1d3-4ec5-f33c-000c4b63a533"
      },
      "source": [
        "svm = SVR()\n",
        "param = {'kernel':[\"linear\", \"poly\", \"rbf\", \"sigmoid\"],\n",
        "         'degree' : [1,2,3,4,5,6,7,8],\n",
        "         'gamma':[\"scale\", \"auto\"],\n",
        "         'tol':[1e-15, 1e-10, 1e-8, 1e-3, 1e-2, 1, 5, 10, 20, 30, 35, 40, 45, 50, 55, 100]}\n",
        "\n",
        "model = RandomizedSearchCV(svm, param, scoring=\"neg_mean_squared_error\", cv=5)\n",
        "\n",
        "model.fit(x_train.values, y_train.values)\n",
        "print(model.best_params_)\n",
        "print(model.best_score_)\n",
        "model = model.best_estimator_\n",
        "pred = model.predict(x_test)\n",
        "sns.distplot(y_test.values - pred, bins=20)\n",
        "#higher the value better the fit\n",
        "print(\"R-squared value : \\t\", 1 - np.sqrt(metrics.mean_squared_error(y_test, pred)))"
      ],
      "execution_count": 250,
      "outputs": [
        {
          "output_type": "stream",
          "text": [
            "/usr/local/lib/python3.6/dist-packages/sklearn/utils/validation.py:760: DataConversionWarning: A column-vector y was passed when a 1d array was expected. Please change the shape of y to (n_samples, ), for example using ravel().\n",
            "  y = column_or_1d(y, warn=True)\n",
            "/usr/local/lib/python3.6/dist-packages/sklearn/utils/validation.py:760: DataConversionWarning: A column-vector y was passed when a 1d array was expected. Please change the shape of y to (n_samples, ), for example using ravel().\n",
            "  y = column_or_1d(y, warn=True)\n",
            "/usr/local/lib/python3.6/dist-packages/sklearn/utils/validation.py:760: DataConversionWarning: A column-vector y was passed when a 1d array was expected. Please change the shape of y to (n_samples, ), for example using ravel().\n",
            "  y = column_or_1d(y, warn=True)\n",
            "/usr/local/lib/python3.6/dist-packages/sklearn/utils/validation.py:760: DataConversionWarning: A column-vector y was passed when a 1d array was expected. Please change the shape of y to (n_samples, ), for example using ravel().\n",
            "  y = column_or_1d(y, warn=True)\n",
            "/usr/local/lib/python3.6/dist-packages/sklearn/utils/validation.py:760: DataConversionWarning: A column-vector y was passed when a 1d array was expected. Please change the shape of y to (n_samples, ), for example using ravel().\n",
            "  y = column_or_1d(y, warn=True)\n",
            "/usr/local/lib/python3.6/dist-packages/sklearn/utils/validation.py:760: DataConversionWarning: A column-vector y was passed when a 1d array was expected. Please change the shape of y to (n_samples, ), for example using ravel().\n",
            "  y = column_or_1d(y, warn=True)\n",
            "/usr/local/lib/python3.6/dist-packages/sklearn/utils/validation.py:760: DataConversionWarning: A column-vector y was passed when a 1d array was expected. Please change the shape of y to (n_samples, ), for example using ravel().\n",
            "  y = column_or_1d(y, warn=True)\n",
            "/usr/local/lib/python3.6/dist-packages/sklearn/utils/validation.py:760: DataConversionWarning: A column-vector y was passed when a 1d array was expected. Please change the shape of y to (n_samples, ), for example using ravel().\n",
            "  y = column_or_1d(y, warn=True)\n",
            "/usr/local/lib/python3.6/dist-packages/sklearn/utils/validation.py:760: DataConversionWarning: A column-vector y was passed when a 1d array was expected. Please change the shape of y to (n_samples, ), for example using ravel().\n",
            "  y = column_or_1d(y, warn=True)\n",
            "/usr/local/lib/python3.6/dist-packages/sklearn/utils/validation.py:760: DataConversionWarning: A column-vector y was passed when a 1d array was expected. Please change the shape of y to (n_samples, ), for example using ravel().\n",
            "  y = column_or_1d(y, warn=True)\n",
            "/usr/local/lib/python3.6/dist-packages/sklearn/utils/validation.py:760: DataConversionWarning: A column-vector y was passed when a 1d array was expected. Please change the shape of y to (n_samples, ), for example using ravel().\n",
            "  y = column_or_1d(y, warn=True)\n",
            "/usr/local/lib/python3.6/dist-packages/sklearn/utils/validation.py:760: DataConversionWarning: A column-vector y was passed when a 1d array was expected. Please change the shape of y to (n_samples, ), for example using ravel().\n",
            "  y = column_or_1d(y, warn=True)\n",
            "/usr/local/lib/python3.6/dist-packages/sklearn/utils/validation.py:760: DataConversionWarning: A column-vector y was passed when a 1d array was expected. Please change the shape of y to (n_samples, ), for example using ravel().\n",
            "  y = column_or_1d(y, warn=True)\n",
            "/usr/local/lib/python3.6/dist-packages/sklearn/utils/validation.py:760: DataConversionWarning: A column-vector y was passed when a 1d array was expected. Please change the shape of y to (n_samples, ), for example using ravel().\n",
            "  y = column_or_1d(y, warn=True)\n",
            "/usr/local/lib/python3.6/dist-packages/sklearn/utils/validation.py:760: DataConversionWarning: A column-vector y was passed when a 1d array was expected. Please change the shape of y to (n_samples, ), for example using ravel().\n",
            "  y = column_or_1d(y, warn=True)\n",
            "/usr/local/lib/python3.6/dist-packages/sklearn/utils/validation.py:760: DataConversionWarning: A column-vector y was passed when a 1d array was expected. Please change the shape of y to (n_samples, ), for example using ravel().\n",
            "  y = column_or_1d(y, warn=True)\n",
            "/usr/local/lib/python3.6/dist-packages/sklearn/utils/validation.py:760: DataConversionWarning: A column-vector y was passed when a 1d array was expected. Please change the shape of y to (n_samples, ), for example using ravel().\n",
            "  y = column_or_1d(y, warn=True)\n",
            "/usr/local/lib/python3.6/dist-packages/sklearn/utils/validation.py:760: DataConversionWarning: A column-vector y was passed when a 1d array was expected. Please change the shape of y to (n_samples, ), for example using ravel().\n",
            "  y = column_or_1d(y, warn=True)\n",
            "/usr/local/lib/python3.6/dist-packages/sklearn/utils/validation.py:760: DataConversionWarning: A column-vector y was passed when a 1d array was expected. Please change the shape of y to (n_samples, ), for example using ravel().\n",
            "  y = column_or_1d(y, warn=True)\n",
            "/usr/local/lib/python3.6/dist-packages/sklearn/utils/validation.py:760: DataConversionWarning: A column-vector y was passed when a 1d array was expected. Please change the shape of y to (n_samples, ), for example using ravel().\n",
            "  y = column_or_1d(y, warn=True)\n",
            "/usr/local/lib/python3.6/dist-packages/sklearn/utils/validation.py:760: DataConversionWarning: A column-vector y was passed when a 1d array was expected. Please change the shape of y to (n_samples, ), for example using ravel().\n",
            "  y = column_or_1d(y, warn=True)\n",
            "/usr/local/lib/python3.6/dist-packages/sklearn/utils/validation.py:760: DataConversionWarning: A column-vector y was passed when a 1d array was expected. Please change the shape of y to (n_samples, ), for example using ravel().\n",
            "  y = column_or_1d(y, warn=True)\n",
            "/usr/local/lib/python3.6/dist-packages/sklearn/utils/validation.py:760: DataConversionWarning: A column-vector y was passed when a 1d array was expected. Please change the shape of y to (n_samples, ), for example using ravel().\n",
            "  y = column_or_1d(y, warn=True)\n",
            "/usr/local/lib/python3.6/dist-packages/sklearn/utils/validation.py:760: DataConversionWarning: A column-vector y was passed when a 1d array was expected. Please change the shape of y to (n_samples, ), for example using ravel().\n",
            "  y = column_or_1d(y, warn=True)\n",
            "/usr/local/lib/python3.6/dist-packages/sklearn/utils/validation.py:760: DataConversionWarning: A column-vector y was passed when a 1d array was expected. Please change the shape of y to (n_samples, ), for example using ravel().\n",
            "  y = column_or_1d(y, warn=True)\n",
            "/usr/local/lib/python3.6/dist-packages/sklearn/utils/validation.py:760: DataConversionWarning: A column-vector y was passed when a 1d array was expected. Please change the shape of y to (n_samples, ), for example using ravel().\n",
            "  y = column_or_1d(y, warn=True)\n",
            "/usr/local/lib/python3.6/dist-packages/sklearn/utils/validation.py:760: DataConversionWarning: A column-vector y was passed when a 1d array was expected. Please change the shape of y to (n_samples, ), for example using ravel().\n",
            "  y = column_or_1d(y, warn=True)\n",
            "/usr/local/lib/python3.6/dist-packages/sklearn/utils/validation.py:760: DataConversionWarning: A column-vector y was passed when a 1d array was expected. Please change the shape of y to (n_samples, ), for example using ravel().\n",
            "  y = column_or_1d(y, warn=True)\n",
            "/usr/local/lib/python3.6/dist-packages/sklearn/utils/validation.py:760: DataConversionWarning: A column-vector y was passed when a 1d array was expected. Please change the shape of y to (n_samples, ), for example using ravel().\n",
            "  y = column_or_1d(y, warn=True)\n",
            "/usr/local/lib/python3.6/dist-packages/sklearn/utils/validation.py:760: DataConversionWarning: A column-vector y was passed when a 1d array was expected. Please change the shape of y to (n_samples, ), for example using ravel().\n",
            "  y = column_or_1d(y, warn=True)\n",
            "/usr/local/lib/python3.6/dist-packages/sklearn/utils/validation.py:760: DataConversionWarning: A column-vector y was passed when a 1d array was expected. Please change the shape of y to (n_samples, ), for example using ravel().\n",
            "  y = column_or_1d(y, warn=True)\n",
            "/usr/local/lib/python3.6/dist-packages/sklearn/utils/validation.py:760: DataConversionWarning: A column-vector y was passed when a 1d array was expected. Please change the shape of y to (n_samples, ), for example using ravel().\n",
            "  y = column_or_1d(y, warn=True)\n",
            "/usr/local/lib/python3.6/dist-packages/sklearn/utils/validation.py:760: DataConversionWarning: A column-vector y was passed when a 1d array was expected. Please change the shape of y to (n_samples, ), for example using ravel().\n",
            "  y = column_or_1d(y, warn=True)\n",
            "/usr/local/lib/python3.6/dist-packages/sklearn/utils/validation.py:760: DataConversionWarning: A column-vector y was passed when a 1d array was expected. Please change the shape of y to (n_samples, ), for example using ravel().\n",
            "  y = column_or_1d(y, warn=True)\n",
            "/usr/local/lib/python3.6/dist-packages/sklearn/utils/validation.py:760: DataConversionWarning: A column-vector y was passed when a 1d array was expected. Please change the shape of y to (n_samples, ), for example using ravel().\n",
            "  y = column_or_1d(y, warn=True)\n",
            "/usr/local/lib/python3.6/dist-packages/sklearn/utils/validation.py:760: DataConversionWarning: A column-vector y was passed when a 1d array was expected. Please change the shape of y to (n_samples, ), for example using ravel().\n",
            "  y = column_or_1d(y, warn=True)\n",
            "/usr/local/lib/python3.6/dist-packages/sklearn/utils/validation.py:760: DataConversionWarning: A column-vector y was passed when a 1d array was expected. Please change the shape of y to (n_samples, ), for example using ravel().\n",
            "  y = column_or_1d(y, warn=True)\n",
            "/usr/local/lib/python3.6/dist-packages/sklearn/utils/validation.py:760: DataConversionWarning: A column-vector y was passed when a 1d array was expected. Please change the shape of y to (n_samples, ), for example using ravel().\n",
            "  y = column_or_1d(y, warn=True)\n",
            "/usr/local/lib/python3.6/dist-packages/sklearn/utils/validation.py:760: DataConversionWarning: A column-vector y was passed when a 1d array was expected. Please change the shape of y to (n_samples, ), for example using ravel().\n",
            "  y = column_or_1d(y, warn=True)\n",
            "/usr/local/lib/python3.6/dist-packages/sklearn/utils/validation.py:760: DataConversionWarning: A column-vector y was passed when a 1d array was expected. Please change the shape of y to (n_samples, ), for example using ravel().\n",
            "  y = column_or_1d(y, warn=True)\n",
            "/usr/local/lib/python3.6/dist-packages/sklearn/utils/validation.py:760: DataConversionWarning: A column-vector y was passed when a 1d array was expected. Please change the shape of y to (n_samples, ), for example using ravel().\n",
            "  y = column_or_1d(y, warn=True)\n",
            "/usr/local/lib/python3.6/dist-packages/sklearn/utils/validation.py:760: DataConversionWarning: A column-vector y was passed when a 1d array was expected. Please change the shape of y to (n_samples, ), for example using ravel().\n",
            "  y = column_or_1d(y, warn=True)\n",
            "/usr/local/lib/python3.6/dist-packages/sklearn/utils/validation.py:760: DataConversionWarning: A column-vector y was passed when a 1d array was expected. Please change the shape of y to (n_samples, ), for example using ravel().\n",
            "  y = column_or_1d(y, warn=True)\n",
            "/usr/local/lib/python3.6/dist-packages/sklearn/utils/validation.py:760: DataConversionWarning: A column-vector y was passed when a 1d array was expected. Please change the shape of y to (n_samples, ), for example using ravel().\n",
            "  y = column_or_1d(y, warn=True)\n",
            "/usr/local/lib/python3.6/dist-packages/sklearn/utils/validation.py:760: DataConversionWarning: A column-vector y was passed when a 1d array was expected. Please change the shape of y to (n_samples, ), for example using ravel().\n",
            "  y = column_or_1d(y, warn=True)\n",
            "/usr/local/lib/python3.6/dist-packages/sklearn/utils/validation.py:760: DataConversionWarning: A column-vector y was passed when a 1d array was expected. Please change the shape of y to (n_samples, ), for example using ravel().\n",
            "  y = column_or_1d(y, warn=True)\n",
            "/usr/local/lib/python3.6/dist-packages/sklearn/utils/validation.py:760: DataConversionWarning: A column-vector y was passed when a 1d array was expected. Please change the shape of y to (n_samples, ), for example using ravel().\n",
            "  y = column_or_1d(y, warn=True)\n",
            "/usr/local/lib/python3.6/dist-packages/sklearn/utils/validation.py:760: DataConversionWarning: A column-vector y was passed when a 1d array was expected. Please change the shape of y to (n_samples, ), for example using ravel().\n",
            "  y = column_or_1d(y, warn=True)\n",
            "/usr/local/lib/python3.6/dist-packages/sklearn/utils/validation.py:760: DataConversionWarning: A column-vector y was passed when a 1d array was expected. Please change the shape of y to (n_samples, ), for example using ravel().\n",
            "  y = column_or_1d(y, warn=True)\n",
            "/usr/local/lib/python3.6/dist-packages/sklearn/utils/validation.py:760: DataConversionWarning: A column-vector y was passed when a 1d array was expected. Please change the shape of y to (n_samples, ), for example using ravel().\n",
            "  y = column_or_1d(y, warn=True)\n",
            "/usr/local/lib/python3.6/dist-packages/sklearn/utils/validation.py:760: DataConversionWarning: A column-vector y was passed when a 1d array was expected. Please change the shape of y to (n_samples, ), for example using ravel().\n",
            "  y = column_or_1d(y, warn=True)\n"
          ],
          "name": "stderr"
        },
        {
          "output_type": "stream",
          "text": [
            "{'tol': 1e-08, 'kernel': 'rbf', 'gamma': 'auto', 'degree': 7}\n",
            "-0.20103462848668213\n",
            "R-squared value : \t 0.6200380685681588\n"
          ],
          "name": "stdout"
        },
        {
          "output_type": "display_data",
          "data": {
            "image/png": "[encoded data removed]",
            "text/plain": [
              "<Figure size 432x288 with 1 Axes>"
            ]
          },
          "metadata": {
            "tags": [],
            "needs_background": "light"
          }
        }
      ]
    },
    {
      "cell_type": "markdown",
      "metadata": {
        "id": "mm5KGw2Ta7CE",
        "colab_type": "text"
      },
      "source": [
        "## Gaussian Process Regressor"
      ]
    },
    {
      "cell_type": "code",
      "metadata": {
        "id": "t6qV9-Z5V0zc",
        "colab_type": "code",
        "colab": {
          "base_uri": "https://localhost:8080/",
          "height": 317
        },
        "outputId": "28f333e4-f7b3-4f1b-98ab-f7d8cd1cd3e2"
      },
      "source": [
        "gaussian = GaussianProcessRegressor()\n",
        "param = {'alpha':[1e-15, 1e-10, 1e-8, 1e-3, 1e-2, 1, 5, 10, 20, 30, 35, 40, 45, 50, 55, 100]}\n",
        "\n",
        "model = RandomizedSearchCV(gaussian, param, scoring=\"neg_mean_squared_error\", cv=5)\n",
        "\n",
        "model.fit(x_train.values, y_train.values)\n",
        "print(model.best_params_)\n",
        "print(model.best_score_)\n",
        "model = model.best_estimator_\n",
        "pred = model.predict(x_test)\n",
        "sns.distplot(y_test.values - pred, bins=20)\n",
        "#higher the value better the fit\n",
        "print(\"R-squared value : \\t\", 1 - np.sqrt(metrics.mean_squared_error(y_test, pred)))"
      ],
      "execution_count": 251,
      "outputs": [
        {
          "output_type": "stream",
          "text": [
            "{'alpha': 1}\n",
            "-0.22698699400407202\n",
            "R-squared value : \t 0.5509936934710291\n"
          ],
          "name": "stdout"
        },
        {
          "output_type": "display_data",
          "data": {
            "image/png": "[encoded data removed]",
            "text/plain": [
              "<Figure size 432x288 with 1 Axes>"
            ]
          },
          "metadata": {
            "tags": [],
            "needs_background": "light"
          }
        }
      ]
    },
    {
      "cell_type": "markdown",
      "metadata": {
        "id": "TfpWZ_J4d_Z9",
        "colab_type": "text"
      },
      "source": [
        "## OUTCOMES\n",
        "\n",
        "So, outcomes are as follows : \n",
        "\n",
        "R-Squared values of different models are as follows:\n",
        "\n",
        "> The highes the R-Square better the model is.\n",
        "\n",
        "1.   Linear Regression (with feature selecton) : 0.6000259212083021\n",
        "2.   OLS : 0.4318726973970223\n",
        "3. Ridge (without feature selection) : 0.617298458188794\n",
        "4. Ridge (with feature selection) : 0.6128922731523194\n",
        "5. ElasticNet (without feature selection) : 0.6137554597847994\n",
        "6. ElasticNet (with feature selection) : 0.6109732355251323\n",
        "7. Lasso (without feature selection) : 0.6159769754806048\n",
        "8. Lasso (with feature selection) : 0.6159769754806048\n",
        "9. Bayesian Ridge (without feature selection) : 0.6187573123842638\n",
        "10. Bayesian Ridge (with feature selection) : 0.6123204996640934\n",
        "11. RANSAC : 0.561697299286015\n",
        "12. Decision Tree Regressor (without feature selection) : 0.5040682291051531\n",
        "13. Decision Tree Regressor (with feature selection) : 0.5040682291051531\n",
        "14. MLP Regressor : 0.6225405469411889\n",
        "15. K Neighbours Regressor : 0.5835115717250203\n",
        "16. SVR : 0.6200380685681588\n",
        "17. Gaussian Process Regressor : 0.5509936934710291\n",
        "\n",
        "\n",
        "\n"
      ]
    },
    {
      "cell_type": "markdown",
      "metadata": {
        "id": "WH2NrCChhebl",
        "colab_type": "text"
      },
      "source": [
        "Now, I would define the parameters for each of the regression models : \n",
        "\n",
        "\n",
        "1. Ridge : ``` {'tol': 1e-10, 'solver': 'auto', 'alpha': 5} ```\n",
        "\n",
        "3. ElasticNet : ```{'tol': 0.001, 'selection': 'random', 'max_iter': 10000.0, 'l1_ratio': 0.01, 'alpha': 0.01}```\n",
        "4. Lasso : ```{'tol': 1e-15, 'selection': 'cyclic', 'alpha': 0.01}```\n",
        "5. Bayesian Ridge : ```{'tol': 1, 'n_iter': 500000, 'lambda_2': 0.001, 'lambda_1': 0.001, 'alpha_2': 0.001, 'alpha_1': 45}```\n",
        "6. RANSAC : ```{'stop_score': 40, 'stop_probability': 0.01, 'stop_n_inliers': 55, 'min_samples': 15, 'max_trials': 500}```\n",
        "7. Decision Tree Regressor : ```{'splitter': 'best', 'min_weight_fraction_leaf': 0.5, 'min_samples_split': 30, 'min_samples_leaf': 5, 'min_impurity_decrease': 0.5, 'max_leaf_nodes': 10, 'max_features': 'auto', 'max_depth': 12, 'criterion': 'friedman_mse', 'ccp_alpha': 40}```\n",
        "\n",
        "8. MLP Regressor : ```{'tol': 0.01, 'solver': 'sgd', 'momentum': 1e-05, 'max_iter': 10000, 'learning_rate_init': 0.1, 'learning_rate': 'adaptive', 'batch_size': 20, 'alpha': 1e-10, 'activation': 'logistic'}```\n",
        "9. K Neighbours Regressor : ```{'weights': 'distance', 'n_neighbors': 10, 'algorithm': 'ball_tree'}```\n",
        "16. SVR : ```{'tol': 1e-08, 'kernel': 'rbf', 'gamma': 'auto', 'degree': 7}```\n",
        "17. Gaussian Process Regressor : ```{'alpha': 1}```\n"
      ]
    },
    {
      "cell_type": "code",
      "metadata": {
        "id": "BnWh5g9jbctr",
        "colab_type": "code",
        "colab": {}
      },
      "source": [
        ""
      ],
      "execution_count": null,
      "outputs": []
    }
  ]
}